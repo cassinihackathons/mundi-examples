{
 "cells": [
  {
   "cell_type": "markdown",
   "metadata": {},
   "source": [
    "<img src='https://mundiwebservices.com/build/assets/Mundi-Logo-CMYK-colors.png' align='left' width='20%'></img>"
   ]
  },
  {
   "cell_type": "markdown",
   "metadata": {},
   "source": [
    "# Welcome to the 5<sup>th</sup> Cassini Hackathon"
   ]
  },
  {
   "cell_type": "markdown",
   "metadata": {},
   "source": [
    "## I- What is Mundi Web Services ?\n",
    "\n",
    "Mundi Web Services is a Data and Information Access Services (DIAS). Mundi offers the opportunity to access a large range of data provided by the Copernicus program and a large scope of tools and services to help users discover the power of Mundi ! \n",
    "\n",
    "Discover more in the video below :"
   ]
  },
  {
   "cell_type": "code",
   "execution_count": null,
   "metadata": {},
   "outputs": [
    {
     "data": {
      "image/jpeg": "[encoded data removed]",
      "text/html": [
       "\n",
       "        <iframe\n",
       "            width=\"400\"\n",
       "            height=\"300\"\n",
       "            src=\"https://www.youtube.com/embed/NEN4Wd-BJOM\"\n",
       "            frameborder=\"0\"\n",
       "            allowfullscreen\n",
       "        ></iframe>\n",
       "        "
      ],
      "text/plain": [
       "<IPython.lib.display.YouTubeVideo at 0x7f6a88279410>"
      ]
     },
     "execution_count": null,
     "metadata": {},
     "output_type": "execute_result"
    }
   ],
   "source": [
    "from IPython.lib.display import YouTubeVideo\n",
    "YouTubeVideo('NEN4Wd-BJOM')"
   ]
  },
  {
   "cell_type": "markdown",
   "metadata": {},
   "source": [
    "## II- What is the Mundi Jupyter Notebook ?\n",
    "\n",
    "The Mundi Jupyter notebook is an **interactive web-based development tool** allowing you to access and manipulate Mundi data. You can either use notebooks developed by the Mundi team or develop your own algorythms to process the data. The main advantage of the Jupyter Notebook is that it avoids you to set-up a development environment. We have done it for you and you can directly create your own algorythms.\n",
    "\n",
    "We offer you the possibility to develop in two languages :\n",
    "- Python (version 3.7.6)\n",
    "- R  \n",
    "\n",
    "The notebooks created by Mundi Team are in \"read and execute\" permissions. You cannot modify the content directly on the `public folder`. If you want to reuse and modify it, you can copy and paste the notebook in your `work folder.`"
   ]
  },
  {
   "cell_type": "markdown",
   "metadata": {},
   "source": [
    "## III- How our notebooks are structured ?\n",
    "\n",
    "In Mundi team, we think that the Jupyter notebooks can be used in two different ways :\n",
    "\n",
    "- First, it can be used to discover what Mundi can offer, what kind of data you can access and how manipulate them easily. It is adressed to **beginners with Earth Observation data.** All of those notebooks are referenced in the `Discover_mundi_capabilities` folder. \n",
    "- Secondly, it can be used to go deeper in the Earth Observation data analysis. If you have specific needs, or need help with algorythms problematics, we provide you with different notebooks. It is then adressed to **experts with Earth Observation data.** All of those notebooks are referenced in the `Mundi_advanced_notebooks` folder.\n",
    "\n",
    "### 1- Discover Mundi capabilities notebooks :\n",
    "\n",
    "- **01_mundi_S2_easy_search :**\n",
    "\n",
    "This notebook is the better way to start with Mundi. In less than 1 minute, you will be able to create your first Sentinel 2 image ! Select the city you want, the sentinel 2 layer, the nearest date and give an image title and that's all ! \n",
    "\n",
    "In few seconds, the image desired will be displayed and stored on your sentinel2_images folder.\n",
    "\n",
    "<a href=\"../public/01-Discover_Mundi_Capabilities/01_mundi_S2_easy_search.ipynb\">Click here to access mundi_S2_easy_search notebook</a>\n",
    "\n",
    "- **02_mundi_gif_creation :**\n",
    "\n",
    "This notebook offers you to create your own gif file based on Sentinel satellites images. You will be asked to select different parameters such as : geographical bounding box, satellite layers, time delta, size of images... \n",
    "\n",
    "It is an easy way to discover Mundi possibilities and play with it to improve your knowledge on Earth Observation data !\n",
    "\n",
    "<a href=\"../public/01-Discover_Mundi_Capabilities/02_mundi_gif_creation.ipynb\">Click here to access mundi_gif_creation notebook</a>\n",
    "\n",
    "\n",
    "### 2- Mundi advanced notebooks :\n",
    "\n",
    "- **01_mundi_overview :**\n",
    "\n",
    "This is a tutorial notebook explaining how to use different features such as : Catalog search via Opensearch or CSW, Data download via boto3 or WMS requests...\n",
    "\n",
    "<a href=\"../public/02-Mundi_Advanced_Notebooks/01_mundi_overview.ipynb\">Click here to access mundi_overview notebook</a>\n",
    "\n",
    "- **02_mundi_wms :**\n",
    "\n",
    "This notebook explains the Web Map Service (WMS) protocol used for Sentinel 2 L1C collection. It describes how it works, what kind of data you can access and show an example with all layers available.\n",
    "\n",
    "<a href=\"../public/02-Mundi_Advanced_Notebooks/02_mundi_wms.ipynb\">Click here to access mundi_wms notebook</a>\n",
    "\n",
    "- **03_mundi_wms_city_polygon :**\n",
    "\n",
    "This notebook explains how to get and visualize polygon, bbox and a satellite image from a city name.\n",
    "\n",
    "<a href=\"../public/02-Mundi_Advanced_Notebooks/03_mundi_wms_city_polygon.ipynb\">Click here to access mundi_wms_city_polygon notebook</a>\n",
    "\n",
    "- **04_mundi_country_polygon :**\n",
    "\n",
    "Example of how to get and visualize polygon,bbox and a geojson file from a country name. \n",
    "\n",
    "<a href=\"../public/02-Mundi_Advanced_Notebooks/04_mundi_country_polygon.ipynb\">Click here to access mundi_country_polygon notebook</a>\n",
    "\n",
    "- **05_mundi_wmts :**\n",
    "\n",
    "This notebook explains the Web Map Tile Service (WMTS) used on Sentinel 2 L1C collection. It describes how it works, what kind of data you can access and show an example with all layers available.\n",
    "\n",
    "<a href=\"../public/02-Mundi_Advanced_Notebooks/05_mundi_wmts.ipynb\">Click here to access mundi_wmts notebook</a>\n",
    "\n",
    "- **06_mundi_csw :**\n",
    "\n",
    "This notebook describes the Catalogue Service Web (CSW).\n",
    "\n",
    "<a href=\"../public/02-Mundi_Advanced_Notebooks/06_mundi_csw.ipynb\">Click here to access mundi_csw notebook</a>\n",
    "\n",
    "- **07_mundi_wcs :**\n",
    "\n",
    "This notebook describes the Web Coverage Service (WCS).\n",
    "\n",
    "<a href=\"../public/02-Mundi_Advanced_Notebooks/07_mundi_wcs.ipynb\">Click here to access mundi_wcs notebook</a>\n",
    "\n",
    "- **08_mundi_wfs :**\n",
    "\n",
    "This notebook describes the Web Feature Service (WFS).\n",
    "\n",
    "<a href=\"../public/02-Mundi_Advanced_Notebooks/08_mundi_wfs.ipynb\">Click here to access mundi_wfs notebook</a>\n",
    "\n",
    "\n",
    "- **09_mundi_data_metadata :**\n",
    "\n",
    "This notebook describes all available data & metadata on Mundi. \n",
    "\n",
    "<a href=\"../public/02-Mundi_Advanced_Notebooks/09_mundi_data_metadata.ipynb\">Click here to access mundi_data_metadata notebook</a>\n",
    "\n",
    "- **10_mundi_downloader :**\n",
    "\n",
    "This notebook shows how to download a product based on its identifier or on parameters.\n",
    "\n",
    "<a href=\"../public/02-Mundi_Advanced_Notebooks/10_mundi_downloader.ipynb\">Click here to access mundi_dowloader notebook</a>\n",
    "\n",
    "- **11_mundi_exceptions :**\n",
    "\n",
    "This notebook shows some examples of Mundi raised exception.\n",
    "\n",
    "<a href=\"../public/02-Mundi_Advanced_Notebooks/11_mundi_exceptions.ipynb\">Click here to access mundi_exceptions notebook</a>\n",
    "\n",
    "- **12_mundi_gdal :**\n",
    "\n",
    "This notebook shows a visualisation of an image from Toulouse as an histogram from its raster.    \n",
    "\n",
    "<a href=\"../public/02-Mundi_Advanced_Notebooks/12_mundi_gdal.ipynb\">Click here to access mundi_gdal notebook</a>\n",
    "\n",
    "- **13_mundi_opensearch :**\n",
    "\n",
    "This notebook shows some examples of opensearch requests.\n",
    "\n",
    "<a href=\"../public/02-Mundi_Advanced_Notebooks/13_mundi_opensearch.ipynb\">Click here to access mundi_opensearch notebook</a>\n",
    "\n",
    "- **14_mundi_shapefile :**\n",
    "\n",
    "This notebook shows an example of how to create, read, and display a shapefile on a map.\n",
    "\n",
    "<a href=\"../public/02-Mundi_Advanced_Notebooks/14_mundi_shapefile.ipynb\">Click here to access mundi_shapefile notebook</a>\n",
    "\n",
    "\n",
    "\n",
    "\n",
    "\n"
   ]
  },
  {
   "cell_type": "code",
   "execution_count": null,
   "outputs": [],
   "source": [],
   "metadata": {
    "collapsed": false
   }
  }
 ],
 "metadata": {
  "kernelspec": {
   "display_name": "Python 3",
   "language": "python",
   "name": "python3"
  },
  "language_info": {
   "codemirror_mode": {
    "name": "ipython",
    "version": 3
   },
   "file_extension": ".py",
   "mimetype": "text/x-python",
   "name": "python",
   "nbconvert_exporter": "python",
   "pygments_lexer": "ipython3",
   "version": "3.7.6"
  }
 },
 "nbformat": 4,
 "nbformat_minor": 4
}
