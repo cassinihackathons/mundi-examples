{
 "cells": [
  {
   "cell_type": "markdown",
   "metadata": {},
   "source": [
    "<img src='https://mundiwebservices.com/build/assets/Mundi-Logo-CMYK-colors.png'  align='left' width='15%' ></img>  "
   ]
  },
  {
   "cell_type": "markdown",
   "metadata": {},
   "source": [
    "# Mundi GIF Creation"
   ]
  },
  {
   "cell_type": "markdown",
   "metadata": {},
   "source": [
    "This Jupyter Notebook allows you to create an animated GIF of a specified zone on earth, between two chosen dates.\n",
    "You can choose the approximate timedelta between two images.\n",
    "It is using the WMS protocol : during the timedelta, it will chose the \"best\" picture of the place you've chosen (cloudless images...)\n",
    "If you want to avoid the clouds I recommend you to chose a great timedelta (about 30 days)."
   ]
  },
  {
   "cell_type": "code",
   "execution_count": null,
   "metadata": {},
   "outputs": [],
   "source": [
    "from giflib import create_gif, display_gif, gif_folder"
   ]
  },
  {
   "cell_type": "markdown",
   "metadata": {},
   "source": [
    "## Parameters"
   ]
  },
  {
   "cell_type": "markdown",
   "metadata": {},
   "source": [
    "### 1/ Bounding Box"
   ]
  },
  {
   "cell_type": "markdown",
   "metadata": {},
   "source": [
    "To select your bounding box, you can either use the interface, and type the city you want to see, or directly define your own bounding box.\n",
    "\n",
    "To get a bounding box around the place you want, you can go on bboxfinder.com\n",
    "- Select EPSG:4326 as the system coordinates, to get the right bbox\n",
    "- Go to the place you want to get the images\n",
    "- Copy the coordinates next to the Map box"
   ]
  },
  {
   "cell_type": "markdown",
   "metadata": {},
   "source": [
    "### 2/ GIF Parameters"
   ]
  },
  {
   "cell_type": "markdown",
   "metadata": {},
   "source": [
    "You have various parameters to create your GIF :\n",
    "- Collection : \n",
    "    - Sentinel1-GRD\n",
    "    - Sentinel2-L1C\n",
    "    - Sentinel2-L2A\n",
    "    - Sentinel5P-L2\n",
    "- Layer : The layer you want to see in your GIF\n",
    "- Starting Date : The date you want your GIF to start\n",
    "- Stopping Date : The date you want your GIF to stop\n",
    "- Download Images :  If you want to download the images, they will be downloaded in your /work directory\n",
    "- Output Name : The name you want to give to your GIF\n",
    "- Time Frame : The length (in days) of the frame of time, you want to pick an image from. (minimum 6)\n",
    "- Height & Width : Height and Width (in pixels) of the GIF in output"
   ]
  },
  {
   "cell_type": "markdown",
   "metadata": {},
   "source": [
    "## Create Your GIF"
   ]
  },
  {
   "cell_type": "markdown",
   "metadata": {},
   "source": [
    "### BBOX examples\n",
    "\n",
    "#### For Sentinel1 & Sentinel2\n",
    "\n",
    "| Place | BBOX |\n",
    "|----------|----------|\n",
    "|  Zoom on Istanbul Airport | 28.699036,41.245934,28.758602,41.302184 |\n",
    "| Focus MEETT | 1.345227,43.654399,1.368823,43.673880 |\n",
    "| Notre-Dame de Paris | 2.347673,48.851607,2.351718,48.854367 |\n",
    "| Wuhan Hospital | 114.031477,30.493873,114.139881,30.559009 |\n",
    "| Beijing Airport | 116.200676,39.368810,116.640129,39.589286 |\n",
    "| Kangaroo Island, Australia - Australian Fires | 136.457748,-36.001341,136.897202,-35.756264 |\n",
    "| Australian Fires | 151.905899,-31.982453,152.784805,-31.467911 |\n",
    "| Flevoland, Netherlands - Tulips | 6.0173014, 52.8439822, 5.0604282, 52.2495271 |\n",
    "| Aral Sea | 58.244019,44.990056,59.221115,45.356488 |\n",
    "| Mer de Glace | 6.656685,45.807982,7.145233,45.988852 |\n",
    "| Les Angles, France - Lake | 1.973248,42.520953,2.217522,42.616655 |\n",
    "| French Dam release | -1.259093,48.563630,-1.204891,48.588645 |\n",
    "| Cerknica, Slovenia - Seasonal Lake | 14.319563,45.749558,14.427967,45.802298 |\n",
    "\n",
    "#### For Sentinel5P\n",
    "| Place | BBOX |\n",
    "|----------|----------|\n",
    "| Central Europe | -7.910156,40.111689,15.556641,51.069017 |\n",
    "| China | 101.667480,31.709476,129.418945,46.619261 |"
   ]
  },
  {
   "cell_type": "code",
   "execution_count": null,
   "metadata": {},
   "outputs": [],
   "source": [
    "create_gif()"
   ]
  },
  {
   "cell_type": "markdown",
   "metadata": {},
   "source": [
    "You have now downloaded the images of your GIF. You can visualize them and delete the ones that are too cloudy for example. Then you just have to launch the GIF generation."
   ]
  },
  {
   "cell_type": "code",
   "execution_count": null,
   "metadata": {},
   "outputs": [],
   "source": [
    "gif_folder()"
   ]
  },
  {
   "cell_type": "markdown",
   "metadata": {},
   "source": [
    "The GIF is automatically saved in your /work directory with the name you gave it.\n",
    "You can go to your /work directory, right-click on your gif file and select download."
   ]
  },
  {
   "cell_type": "code",
   "execution_count": null,
   "metadata": {},
   "outputs": [],
   "source": [
    "display_gif()"
   ]
  },
  {
   "cell_type": "code",
   "execution_count": null,
   "metadata": {},
   "outputs": [],
   "source": []
  }
 ],
 "metadata": {
  "kernelspec": {
   "display_name": "Python 3",
   "language": "python",
   "name": "python3"
  },
  "language_info": {
   "codemirror_mode": {
    "name": "ipython",
    "version": 3
   },
   "file_extension": ".py",
   "mimetype": "text/x-python",
   "name": "python",
   "nbconvert_exporter": "python",
   "pygments_lexer": "ipython3",
   "version": "3.7.6"
  }
 },
 "nbformat": 4,
 "nbformat_minor": 4
}
