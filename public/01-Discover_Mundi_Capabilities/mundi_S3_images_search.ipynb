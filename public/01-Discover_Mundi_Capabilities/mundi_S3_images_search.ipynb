{
 "cells": [
  {
   "cell_type": "markdown",
   "metadata": {},
   "source": [
    "<img src='https://mundiwebservices.com/build/assets/Mundi-Logo-CMYK-colors.png'  align='left' width='15%' ></img>  "
   ]
  },
  {
   "cell_type": "markdown",
   "metadata": {},
   "source": [
    "# Mundi Sentinel 3 Image Search\n",
    "\n",
    "This notebook allows to donwload Sentinel 3 images in a simple way. You can download a single image or create a GIF based on multiple images. Sentinel 3 has the particularity to take an image each day on each part of the world. It is great to follow meteorological events like hurricane or iceberg movements...\n",
    "\n",
    "This notebook is based on WMS to find an image given an area of interest:\n",
    "* If you specify a time interval, it will choose the image of the last day in your interval. \n",
    "* The bounding box size must be not too low (like a city) and not too high (like a continent). The ideal size is a country like France for instance. "
   ]
  },
  {
   "cell_type": "code",
   "execution_count": null,
   "metadata": {},
   "outputs": [],
   "source": [
    "from sentinel3lib import setup, create_gif, gif_folder, display_gif\n",
    "setup()"
   ]
  },
  {
   "cell_type": "markdown",
   "metadata": {},
   "source": [
    "With the function create_gif() you will be able to download many images from a specific bounding box and a specific layer in order to create your own GIF."
   ]
  },
  {
   "cell_type": "code",
   "execution_count": null,
   "metadata": {},
   "outputs": [],
   "source": [
    "create_gif()"
   ]
  },
  {
   "cell_type": "markdown",
   "metadata": {},
   "source": [
    "With the function gif_folder(), you will be able to select images you want to display in your GIF and delete the ones you don't want and finally generate the GIF."
   ]
  },
  {
   "cell_type": "code",
   "execution_count": null,
   "metadata": {},
   "outputs": [],
   "source": [
    "gif_folder()"
   ]
  },
  {
   "cell_type": "markdown",
   "metadata": {},
   "source": [
    "With the function gif_display(), you will be able to display one of the GIF you have already created."
   ]
  },
  {
   "cell_type": "code",
   "execution_count": null,
   "metadata": {},
   "outputs": [],
   "source": [
    "display_gif()"
   ]
  }
 ],
 "metadata": {
  "kernelspec": {
   "display_name": "Python 3",
   "language": "python",
   "name": "python3"
  },
  "language_info": {
   "codemirror_mode": {
    "name": "ipython",
    "version": 3
   },
   "file_extension": ".py",
   "mimetype": "text/x-python",
   "name": "python",
   "nbconvert_exporter": "python",
   "pygments_lexer": "ipython3",
   "version": "3.7.6"
  }
 },
 "nbformat": 4,
 "nbformat_minor": 4
}
