{
 "cells": [
  {
   "cell_type": "markdown",
   "metadata": {},
   "source": [
    "<img src='https://mundiwebservices.com/build/assets/Mundi-Logo-CMYK-colors.png'  align='left' width='15%' ></img>  "
   ]
  },
  {
   "cell_type": "code",
   "execution_count": null,
   "metadata": {},
   "outputs": [],
   "source": [
    "from waterlib import define_parameters_first_map, define_parameters_second_map, get_images,gif_creation, display_pixels,setup\n",
    "setup()"
   ]
  },
  {
   "cell_type": "markdown",
   "metadata": {},
   "source": [
    "# Mundi Permanent Water Detection and Comparison\n",
    "\n",
    "This Jupyter Notebook \"Mundi Permanent Water Detection and Comparison\" gives you the opportunity to detect if water is permanently present in the geographical zone you are looking for and how this evolves during time.\n",
    "\n",
    "## I- Your permanent water detection map parameters :\n",
    "\n",
    "With this function, you will be able to generate an interactive map showing you where water is present during a specific time delta. All you have to do is define a specific geographical zone (called bounding box) and a specific time delta.\n",
    "\n",
    "### 1/ Bounding Box :\n",
    "\n",
    "A bounding box is a geographical area defined by two longitudes and two latitudes. To select your bounding box, you can either use the interface, and type the city you want to see, or directly define your own bounding box.\n",
    "\n",
    "Warning, the bounding box cannot be too large ! You cannot for instance specify a country such as France as a bounding box. The size of a city is more suitable. \n",
    "\n",
    "To get a bounding box around the place you want, you can go on www.bboxfinder.com  \n",
    "- Select EPSG:4326 as the system coordinates, to get the right bbox\n",
    "- Go to the place you want to get the images\n",
    "- Copy the coordinates next to the Map box\n",
    "\n",
    "### 2/ Timedelta :\n",
    "\n",
    "Starting Date & final date : The timedelta where we will search for sentinel2 L2A images. The WMS service will look at the best images in this timedelta (cloudless images) to build your map."
   ]
  },
  {
   "cell_type": "code",
   "execution_count": null,
   "metadata": {},
   "outputs": [],
   "source": [
    "define_parameters_first_map()"
   ]
  },
  {
   "cell_type": "markdown",
   "metadata": {},
   "source": [
    "## II- Your permanent water detection map parameters comparison (optional):\n",
    "\n",
    "You can easily compare data providing by the first map with a second map in a different time delta. It will offer you the possibility to see the permanent water evolution during these two timedeltas."
   ]
  },
  {
   "cell_type": "code",
   "execution_count": null,
   "metadata": {},
   "outputs": [],
   "source": [
    "define_parameters_second_map()"
   ]
  },
  {
   "cell_type": "markdown",
   "metadata": {},
   "source": [
    "## III- Get water permanent images :\n",
    "\n",
    "With this function, you can download images with a specific layer (showing only water) for the bounding box you have predefined and in the time delta you desire. You have to select the time frame (in days) to acquire data wich is the period of time where the WMS will look for the best image (cloudless image). For example, if you select a time delta of 1 year and a time frame of 30 days, it will select an image for each month (12 images in total).\n",
    "\n",
    "All downloaded images will be put in the `work/water_detection/images` directory."
   ]
  },
  {
   "cell_type": "code",
   "execution_count": null,
   "metadata": {},
   "outputs": [],
   "source": [
    "get_images()"
   ]
  },
  {
   "cell_type": "markdown",
   "metadata": {},
   "source": [
    "## IV- Generate a GIF file to see the evolution :\n",
    "\n",
    "With all images downloaded before, you can easily generate a GIF file wich allows you to see the water presence evolution on the area you chose. You can delete some images wich are not fine for you (too many clouds for instance) and define the GIF and end GIF duration (in seconds).\n",
    "\n",
    "All GIF files will be put in the `work/water_detection/gif` directory.\n",
    "\n",
    "#### Be Careful ! After each image deletion you have to reexecute the cell `gif_creation()`"
   ]
  },
  {
   "cell_type": "code",
   "execution_count": null,
   "metadata": {},
   "outputs": [],
   "source": [
    "gif_creation()"
   ]
  },
  {
   "cell_type": "markdown",
   "metadata": {},
   "source": [
    "## V- Measure and display the water permanent surface area :\n",
    "\n",
    "With the images downloaded before, you will be able to calculate the water surface area evolution on the bounding box selected. This calculation is based on the blue pixels present on each image. We know that each pixel represents a area of 100m², which allows us to calculate this area on all image. \n",
    "\n",
    "If you want to delete an image, please use the gif_creation() function in the cell above.\n",
    "\n",
    "Finally, we will able to display you a graphic bar showing you how this area evolves during the time-delta selected. "
   ]
  },
  {
   "cell_type": "code",
   "execution_count": null,
   "metadata": {},
   "outputs": [],
   "source": [
    "display_pixels()"
   ]
  }
 ],
 "metadata": {
  "kernelspec": {
   "display_name": "Python 3",
   "language": "python",
   "name": "python3"
  },
  "language_info": {
   "codemirror_mode": {
    "name": "ipython",
    "version": 3
   },
   "file_extension": ".py",
   "mimetype": "text/x-python",
   "name": "python",
   "nbconvert_exporter": "python",
   "pygments_lexer": "ipython3",
   "version": "3.7.6"
  }
 },
 "nbformat": 4,
 "nbformat_minor": 4
}
