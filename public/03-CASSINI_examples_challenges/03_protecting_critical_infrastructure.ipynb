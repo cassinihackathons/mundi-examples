{
 "cells": [
  {
   "cell_type": "markdown",
   "metadata": {},
   "source": [
    "# Protecting our critical infrastructure\n",
    "\n",
    "\n",
    "This Jupyter Notebook “Protecting our critical infrastructure” is based on the example of a nuclear power plant as a critical site. The presence of water and the evolution of its temperature is very important in its management. In order to observe the water and steam released by a power plant, we will make a time series over the year 2022. After that, we will take some significant images to be able to compare the evolution."
   ]
  },
  {
   "cell_type": "markdown",
   "metadata": {},
   "source": [
    "### Definition of parameters"
   ]
  },
  {
   "cell_type": "markdown",
   "metadata": {},
   "source": [
    "In this notebook we will use the example of the Golfech power plant which is located along the Garonne river."
   ]
  },
  {
   "cell_type": "code",
   "execution_count": null,
   "metadata": {},
   "outputs": [],
   "source": [
    "import datetime\n",
    "import numpy as np\n",
    "from giflib import download_images,generate_gif_from_folder, display_all_gif\n",
    "from utils import height2width\n",
    "from matplotlib import pyplot as plt\n",
    "from matplotlib.patches import Rectangle\n",
    "\n",
    "\n",
    "_projection_ = 'EPSG:4326'\n",
    "_bbox_       = (0.826979,44.090976,0.864658,44.122715) # Golfech nuclear power plant\n",
    "\n",
    "_height_     = 512\n",
    "_width_      = height2width(_bbox_, _height_)"
   ]
  },
  {
   "cell_type": "markdown",
   "metadata": {},
   "source": [
    "## Time series with the library Mundi giflib"
   ]
  },
  {
   "cell_type": "markdown",
   "metadata": {},
   "source": [
    "We will use the Sentinel-2 satellite to observe with natural colors the area as well as with the moisture index and color infared layers."
   ]
  },
  {
   "cell_type": "markdown",
   "metadata": {},
   "source": [
    "### Natural color"
   ]
  },
  {
   "cell_type": "code",
   "execution_count": null,
   "metadata": {},
   "outputs": [],
   "source": [
    "download_images(_bbox_,('Sentinel2', 'L1C'),'1_NATURAL_COL0R',datetime.date(2022, 1, 1),datetime.date(2022, 12, 22),'Natural','',30,_height_,_width_)\n",
    "\n",
    "generate_gif_from_folder(5,\"natural.gif\",3)"
   ]
  },
  {
   "cell_type": "markdown",
   "metadata": {},
   "source": [
    "### Color infared vegetation"
   ]
  },
  {
   "cell_type": "code",
   "execution_count": null,
   "metadata": {},
   "outputs": [],
   "source": [
    "download_images(_bbox_,('Sentinel2', 'L1C'),'2_COLOR_INFRARED__VEGETATION_',datetime.date(2022, 1, 1),datetime.date(2022, 12, 22),'Infared','',30,_height_,_width_)\n",
    "\n",
    "generate_gif_from_folder(5,\"infrared.gif\",3)"
   ]
  },
  {
   "cell_type": "markdown",
   "metadata": {},
   "source": [
    "### Moisture Index"
   ]
  },
  {
   "cell_type": "code",
   "execution_count": null,
   "metadata": {},
   "outputs": [],
   "source": [
    "download_images(_bbox_,('Sentinel2', 'L1C'),'6_MOISTURE_INDEX',datetime.date(2022, 1, 1),datetime.date(2022, 12, 22),'Moisture','',30,_height_,_width_)\n",
    "\n",
    "generate_gif_from_folder(5,\"moisture.gif\",3)"
   ]
  },
  {
   "cell_type": "markdown",
   "metadata": {},
   "source": [
    "#### Display gif files"
   ]
  },
  {
   "cell_type": "code",
   "execution_count": null,
   "metadata": {},
   "outputs": [],
   "source": [
    "display_all_gif()"
   ]
  },
  {
   "cell_type": "markdown",
   "metadata": {},
   "source": [
    "## Use Mundi Web Map Service"
   ]
  },
  {
   "cell_type": "markdown",
   "metadata": {},
   "source": [
    "In this section we will see how to visualise the state of the control unit on certain dates. In this way, we will be able to compare its operation when it is switched off and when it is in operation (full or half). We will use the same layers as before with Sentinel-2 and Landsat 8. "
   ]
  },
  {
   "cell_type": "code",
   "execution_count": null,
   "metadata": {
    "collapsed": false,
    "jupyter": {
     "outputs_hidden": false
    }
   },
   "outputs": [],
   "source": [
    "from PIL import Image\n",
    "from mundilib import MundiCatalogue\n",
    "from matplotlib import pyplot as plt"
   ]
  },
  {
   "cell_type": "markdown",
   "metadata": {},
   "source": [
    "### Define service end point"
   ]
  },
  {
   "cell_type": "code",
   "execution_count": null,
   "metadata": {
    "collapsed": false,
    "jupyter": {
     "outputs_hidden": false
    }
   },
   "outputs": [],
   "source": [
    "c = MundiCatalogue()\n",
    "s2_wms = c.get_collection(\"Sentinel2\").mundi_wms('L1C')\n",
    "l8_wms = c.get_collection(\"Landsat8\").mundi_wms('L2')"
   ]
  },
  {
   "cell_type": "markdown",
   "metadata": {},
   "source": [
    "### Visualisation of WMS layers from bbox of Golfech\n",
    "\n",
    "#### Sentinel-2"
   ]
  },
  {
   "cell_type": "code",
   "execution_count": null,
   "metadata": {
    "collapsed": false,
    "jupyter": {
     "outputs_hidden": false
    },
    "pycharm": {
     "is_executing": true
    }
   },
   "outputs": [],
   "source": [
    "s2_layers = ['1_NATURAL_COL0R', '2_COLOR_INFRARED__VEGETATION_', '6_MOISTURE_INDEX']\n",
    "\n",
    "_time_ = [('2019-07-25/2019-07-25','Reactors shut down'),('2022-08-08/2022-08-08','One reactor in operation'),\n",
    "          ('2022-08-13/2022-08-13','One reactor in operation'),('2022-02-09/2022-02-09','Two reactors in operation')]\n",
    "\n",
    "for lay in s2_layers:\n",
    "\n",
    "    print (s2_wms[lay].title)\n",
    "\n",
    "    for date in _time_:\n",
    "        print(date[0][:10])\n",
    "        print(date[1])\n",
    "        \n",
    "        # getting image from 'wms'\n",
    "        img = s2_wms.getmap(layers = [s2_wms[lay].name],\n",
    "                             srs = _projection_,\n",
    "                             bbox = _bbox_,\n",
    "                             size = (_width_, _height_),\n",
    "                             format ='image/png',\n",
    "                             time = date[0],\n",
    "                             showlogo = False,\n",
    "                             transparent=False)\n",
    "\n",
    "        display(Image.open(img))\n"
   ]
  },
  {
   "cell_type": "markdown",
   "metadata": {},
   "source": [
    "#### Landsat 8"
   ]
  },
  {
   "cell_type": "code",
   "execution_count": null,
   "metadata": {},
   "outputs": [],
   "source": [
    "# du haut vers le bas valeurs de température\n",
    "#-10,-3.75,2.5,8.75,15,21.25,27.5,33.75,40\n",
    "\n",
    "\n",
    "# Create the colormap\n",
    "    cmap = LinearSegmentedColormap.\n",
    "\n"
   ]
  },
  {
   "cell_type": "code",
   "execution_count": null,
   "metadata": {
    "collapsed": false,
    "jupyter": {
     "outputs_hidden": false
    }
   },
   "outputs": [],
   "source": [
    "l8_layers = ['TRUE_COLOR','LST']\n",
    "_time_ = [('2022-07-28/2022-08-12','One reactor in operation'),('2022-08-13/2022-08-13','One reactor in operation'),('2022-02-09/2022-02-10','Two reactors in operation')]\n",
    "\n",
    "for lay in l8_layers: \n",
    "    print (lay)\n",
    "\n",
    "    for date in _time_:\n",
    "    \n",
    "        print(date[0])\n",
    "        print(date[1])\n",
    "    \n",
    "        # getting image from 'wms'\n",
    "        img = l8_wms.getmap(layers = [lay],\n",
    "                             srs = _projection_,\n",
    "                             bbox = _bbox_,\n",
    "                             size = (_width_, _height_),\n",
    "                             format ='image/png',\n",
    "                             time = date[0],\n",
    "                             showlogo = False,\n",
    "                             transparent=False,\n",
    "                             maxCC=100)\n",
    "        \n",
    "        \n",
    "        lst_array = np.asarray(Image.open(img)\n",
    "        plt.imshow(lst_array)\n",
    "        plt.title(date[1])\n",
    "        \n",
    "        #Display the legend                       \n",
    "        if lay == 'LST':\n",
    "            plt.colorbar(,,)\n",
    "                               \n",
    "        plt.show()"
   ]
  },
  {
   "cell_type": "code",
   "execution_count": null,
   "metadata": {},
   "outputs": [],
   "source": []
  }
 ],
 "metadata": {
  "kernelspec": {
   "display_name": "Python 3",
   "language": "python",
   "name": "python3"
  },
  "language_info": {
   "codemirror_mode": {
    "name": "ipython",
    "version": 3
   },
   "file_extension": ".py",
   "mimetype": "text/x-python",
   "name": "python",
   "nbconvert_exporter": "python",
   "pygments_lexer": "ipython3",
   "version": "3.7.6"
  }
 },
 "nbformat": 4,
 "nbformat_minor": 4
}
