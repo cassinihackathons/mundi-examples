{
 "cells": [
  {
   "cell_type": "markdown",
   "metadata": {},
   "source": [
    "<img src='https://mundiwebservices.com/build/assets/Mundi-Logo-CMYK-colors.png'  align='left' width='15%' ></img>  "
   ]
  },
  {
   "cell_type": "markdown",
   "metadata": {},
   "source": [
    "# Create, read and display a shapefile"
   ]
  },
  {
   "cell_type": "code",
   "execution_count": 1,
   "metadata": {},
   "outputs": [
    {
     "name": "stdout",
     "output_type": "stream",
     "text": [
      "Switzerland\n",
      "Bbox = (6, 45, 11, 48)\n",
      "POLYGON ((9.59422610844635 47.52505809182027, 9.632931756232978 47.34760122332999, 9.479969516649021 47.10280996356337, 9.932448357796659 46.92072805438296, 10.44270145024663 46.89354625099743, 10.36337812667861 46.48357127540986, 9.922836541390382 46.31489940040919, 9.182881707403055 46.44021474871698, 8.966305779667806 46.03693187111119, 8.489952426801324 46.00515086525169, 8.316629672894379 46.16364248309086, 7.755992058959833 45.82449005795931, 7.273850945676656 45.77694774025078, 6.843592970414505 45.99114655210061, 6.500099724970426 46.42967275652944, 6.022609490593538 46.27298981382047, 6.037388950229001 46.72577871356187, 6.768713820023606 47.2877082383037, 6.736571079138059 47.54180125588285, 7.192202182655507 47.44976552997102, 7.466759067422231 47.62058197691181, 8.317301466514095 47.61357982033627, 8.522611932009767 47.83082754169129, 9.59422610844635 47.52505809182027))\n"
     ]
    }
   ],
   "source": [
    "from utils import country_polygon_bbox\n",
    "\n",
    "country_name='Switzerland' #'Germany'\n",
    "polygon, bbox = country_polygon_bbox(country_name)\n",
    "\n",
    "print(country_name)\n",
    "print(f'Bbox = {bbox}')\n",
    "print(polygon)"
   ]
  },
  {
   "cell_type": "markdown",
   "metadata": {},
   "source": [
    "# Create a shapefile that represents the polygon of the selected country"
   ]
  },
  {
   "cell_type": "code",
   "execution_count": 2,
   "metadata": {},
   "outputs": [],
   "source": [
    "import warnings\n",
    "warnings.filterwarnings(\"ignore\")\n",
    "import geopandas as gpd\n",
    "\n",
    "crs = {'init': 'epsg:4326'}\n",
    "polygon_file = gpd.GeoDataFrame(index=[0], crs=crs, geometry=[polygon])\n",
    "polygon_file.to_file(filename='/home/jovyan/work/Selected_country.shp', driver=\"ESRI Shapefile\")"
   ]
  },
  {
   "cell_type": "markdown",
   "metadata": {},
   "source": [
    "# Read the shapefile"
   ]
  },
  {
   "cell_type": "code",
   "execution_count": 3,
   "metadata": {},
   "outputs": [],
   "source": [
    "country_polygon = gpd.read_file(\"/home/jovyan/work/Selected_country.shp\")"
   ]
  },
  {
   "cell_type": "markdown",
   "metadata": {},
   "source": [
    "# Display the shapefile on a map "
   ]
  },
  {
   "cell_type": "code",
   "execution_count": 4,
   "metadata": {},
   "outputs": [
    {
     "data": {
      "text/html": [
       "<div style=\"width:100%;\"><div style=\"position:relative;width:100%;height:0;padding-bottom:60%;\"><iframe src=\"about:blank\" style=\"position:absolute;width:100%;height:100%;left:0;top:0;border:none !important;\" data-html=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 onload=\"this.contentDocument.open();this.contentDocument.write(atob(this.getAttribute('data-html')));this.contentDocument.close();\" allowfullscreen webkitallowfullscreen mozallowfullscreen></iframe></div></div>"
      ],
      "text/plain": [
       "<folium.folium.Map at 0x7f5d866512d0>"
      ]
     },
     "execution_count": 4,
     "metadata": {},
     "output_type": "execute_result"
    }
   ],
   "source": [
    "import folium\n",
    "m = folium.Map([50.854457, 4.377184], zoom_start=3, tiles='cartodbpositron')\n",
    "folium.GeoJson(country_polygon).add_to(m)\n",
    "folium.LatLngPopup().add_to(m)\n",
    "m"
   ]
  }
 ],
 "metadata": {
  "kernelspec": {
   "display_name": "Python 3",
   "language": "python",
   "name": "python3"
  },
  "language_info": {
   "codemirror_mode": {
    "name": "ipython",
    "version": 3
   },
   "file_extension": ".py",
   "mimetype": "text/x-python",
   "name": "python",
   "nbconvert_exporter": "python",
   "pygments_lexer": "ipython3",
   "version": "3.7.6"
  }
 },
 "nbformat": 4,
 "nbformat_minor": 4
}
