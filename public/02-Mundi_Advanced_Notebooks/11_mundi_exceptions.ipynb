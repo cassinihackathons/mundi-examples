{
 "cells": [
  {
   "cell_type": "markdown",
   "metadata": {},
   "source": [
    "<img src='https://mundiwebservices.com/build/assets/Mundi-Logo-CMYK-colors.png'  align='left' width='15%' ></img>  "
   ]
  },
  {
   "cell_type": "markdown",
   "metadata": {},
   "source": [
    "# Mundi exceptions\n",
    "\n",
    "This notebook shows some examples of function calls that raise `MundiException`s in _mundilib_."
   ]
  },
  {
   "cell_type": "code",
   "execution_count": 1,
   "metadata": {},
   "outputs": [],
   "source": [
    "from mundilib import MundiCatalogue, MundiException\n",
    "from traceback import print_exc\n",
    "\n",
    "c = MundiCatalogue()"
   ]
  },
  {
   "cell_type": "markdown",
   "metadata": {},
   "source": [
    "#### Trying to use unsupported web service will raise a MundiException"
   ]
  },
  {
   "cell_type": "code",
   "execution_count": 2,
   "metadata": {},
   "outputs": [
    {
     "name": "stderr",
     "output_type": "stream",
     "text": [
      "Traceback (most recent call last):\n",
      "  File \"<ipython-input-2-75a115bff582>\", line 2, in <module>\n",
      "    wms = c.get_collection('Sentinel2').mundi_wms('L1C', '1.4.0')\n",
      "  File \"/home/jovyan/lib/mundilib.py\", line 388, in mundi_wms\n",
      "    raise MundiException(ErrorMessages.UNSUPPORTED_SERVICE)\n",
      "mundilib.MundiException: Unsupported web service version requested.\n"
     ]
    }
   ],
   "source": [
    "try:\n",
    "    wms = c.get_collection('Sentinel2').mundi_wms('L1C', '1.4.0')\n",
    "except MundiException as e:\n",
    "    print_exc()"
   ]
  },
  {
   "cell_type": "markdown",
   "metadata": {},
   "source": [
    "#### Trying to use unavailable collection will raise a MundiException"
   ]
  },
  {
   "cell_type": "code",
   "execution_count": 3,
   "metadata": {},
   "outputs": [
    {
     "name": "stderr",
     "output_type": "stream",
     "text": [
      "Traceback (most recent call last):\n",
      "  File \"<ipython-input-3-73d60c1a4769>\", line 2, in <module>\n",
      "    col = c.get_collection('Sentinel8')\n",
      "  File \"/home/jovyan/lib/mundilib.py\", line 123, in get_collection\n",
      "    raise MundiException(ErrorMessages.UNAVAILABLE_COLLECTION)\n",
      "mundilib.MundiException: Unavailable collection.\n"
     ]
    }
   ],
   "source": [
    "try:\n",
    "    col = c.get_collection('Sentinel8')\n",
    "except MundiException as e:\n",
    "    print_exc()"
   ]
  },
  {
   "cell_type": "markdown",
   "metadata": {},
   "source": [
    "#### Trying to use unavailable service for given collection will raise a MundiException"
   ]
  },
  {
   "cell_type": "code",
   "execution_count": 4,
   "metadata": {},
   "outputs": [
    {
     "name": "stdout",
     "output_type": "stream",
     "text": [
      "Collection: Landsat8\n"
     ]
    },
    {
     "name": "stderr",
     "output_type": "stream",
     "text": [
      "Traceback (most recent call last):\n",
      "  File \"/home/jovyan/lib/mundilib.py\", line 328, in _service_end_point\n",
      "    return MUNDI_SERVICES_ENDPOINTS[service] + MUNDI_COLLECTION_IDS[f'{self.name}-{dataset}']\n",
      "KeyError: 'Landsat8-L1C'\n",
      "\n",
      "During handling of the above exception, another exception occurred:\n",
      "\n",
      "Traceback (most recent call last):\n",
      "  File \"<ipython-input-4-12ad8c96f7b3>\", line 5, in <module>\n",
      "    wcs = col.mundi_wcs('L1C')\n",
      "  File \"/home/jovyan/lib/mundilib.py\", line 425, in mundi_wcs\n",
      "    return WebCoverageService(self._service_end_point('wcs', dataset), version)\n",
      "  File \"/home/jovyan/lib/mundilib.py\", line 330, in _service_end_point\n",
      "    raise MundiException(ErrorMessages.UNAVAILABLE_COLLECTION_SERVICE)\n",
      "mundilib.MundiException: Unavailable service on collection.\n"
     ]
    }
   ],
   "source": [
    "col = c.get_collection('Landsat8')\n",
    "print(f'Collection: {col.name}')\n",
    "\n",
    "try:\n",
    "    wcs = col.mundi_wcs('L1C')\n",
    "except MundiException:\n",
    "    print_exc()"
   ]
  }
 ],
 "metadata": {
  "kernelspec": {
   "display_name": "Python 3",
   "language": "python",
   "name": "python3"
  },
  "language_info": {
   "codemirror_mode": {
    "name": "ipython",
    "version": 3
   },
   "file_extension": ".py",
   "mimetype": "text/x-python",
   "name": "python",
   "nbconvert_exporter": "python",
   "pygments_lexer": "ipython3",
   "version": "3.7.6"
  }
 },
 "nbformat": 4,
 "nbformat_minor": 4
}
