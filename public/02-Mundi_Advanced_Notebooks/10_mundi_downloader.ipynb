{
 "cells": [
  {
   "cell_type": "markdown",
   "metadata": {},
   "source": [
    "<img src='https://mundiwebservices.com/build/assets/Mundi-Logo-CMYK-colors.png'  align='left' width='15%' ></img>  "
   ]
  },
  {
   "cell_type": "markdown",
   "metadata": {},
   "source": [
    "# Mundi Downloader\n",
    "\n",
    "Run this notebook from your work directory\n",
    "\n",
    "## Preliminaries"
   ]
  },
  {
   "cell_type": "markdown",
   "metadata": {},
   "source": [
    "### Your credentials\n"
   ]
  },
  {
   "cell_type": "code",
   "execution_count": 1,
   "metadata": {},
   "outputs": [],
   "source": [
    "access_key = '<your access key goes here>'\n",
    "secret_key = '<your secret key goes here>'"
   ]
  },
  {
   "cell_type": "markdown",
   "metadata": {},
   "source": [
    "### Imports"
   ]
  },
  {
   "cell_type": "code",
   "execution_count": 2,
   "metadata": {},
   "outputs": [],
   "source": [
    "import os\n",
    "import shutil\n",
    "from mundilib import MundiCollection, get_node"
   ]
  },
  {
   "cell_type": "markdown",
   "metadata": {},
   "source": [
    "## Download a single product via its identifier\n",
    "\n",
    "First, we'll download a Sentinel 1 GRD product: S1A_IW_GRDH_1SDV_20221231T174737_20221231T174802_046579_059500_329F."
   ]
  },
  {
   "cell_type": "code",
   "execution_count": 3,
   "metadata": {},
   "outputs": [
    {
     "name": "stdout",
     "output_type": "stream",
     "text": [
      "Will download S1A_IW_OCN__2SDV_20180421T163028_20180421T163053_021567_0252B9_4A34 to data/foo/\n"
     ]
    }
   ],
   "source": [
    "downloader = MundiCollection(\"Sentinel1\").mundi_downloader(access_key, secret_key)\n",
    "target_folder = \"data/foo/\"\n",
    "record_id = \"S1A_IW_GRDH_1SDV_20221231T174737_20221231T174802_046579_059500_329F\"\n",
    "\n",
    "print(f\"Will download {record_id} to {target_folder}\")"
   ]
  },
  {
   "cell_type": "code",
   "execution_count": 4,
   "metadata": {},
   "outputs": [
    {
     "name": "stderr",
     "output_type": "stream",
     "text": [
      "2020-08-04 11:31:23,200 - [INFO] - Downloading S1A_IW_OCN__2SDV_20180421T163028_20180421T163053_021567_0252B9_4A34\n"
     ]
    }
   ],
   "source": [
    "downloader.download_by_id(record_id, target_folder)"
   ]
  },
  {
   "cell_type": "markdown",
   "metadata": {},
   "source": [
    "Let's check that the product has actually been downloaded."
   ]
  },
  {
   "cell_type": "code",
   "execution_count": 5,
   "metadata": {},
   "outputs": [
    {
     "data": {
      "text/plain": [
       "['S1A_IW_OCN__2SDV_20180421T163028_20180421T163053_021567_0252B9_4A34.zip']"
      ]
     },
     "execution_count": 5,
     "metadata": {},
     "output_type": "execute_result"
    }
   ],
   "source": [
    "os.listdir(target_folder)"
   ]
  },
  {
   "cell_type": "markdown",
   "metadata": {},
   "source": [
    "## Download a product based on parameters\n",
    "\n",
    "Now, we'll use a set of parameters to download an OCN product.\n",
    "\n",
    "This is done in three steps:\n",
    "1. Use `browse()` method to make a catalog request with some parameters\n",
    "2. With `records` property, check that the matched records are the ones that we want to download. Otherwise, go back to 1. with a new set of parameters\n",
    "3. Download the products using `download()` method"
   ]
  },
  {
   "cell_type": "code",
   "execution_count": 6,
   "metadata": {},
   "outputs": [
    {
     "name": "stdout",
     "output_type": "stream",
     "text": [
      "S1B_IW_GRDH_1SDV_20200404T181603_20200404T181632_020997_027D4C_5001: https://obs.eu-de.otc.t-systems.com/s1-l1-grd-2020-q2/2020/04/04/IW/DV/S1B_IW_GRDH_1SDV_20200404T181603_20200404T181632_020997_027D4C_5001\n"
     ]
    }
   ],
   "source": [
    "# First, we use browse() method\n",
    "# For the sake of the example, we'll specify parameters that match a single product\n",
    "downloader.browse(date_from='2022-04-01T12:00:00', date_to='2022-04-04T12:05:00', bbox=(7, -5, 25, 0), other_fields={\"DIAS:productType\": \"GRD\"})\n",
    "\n",
    "\n",
    "# We can then check the records that have been found\n",
    "for id_, record in downloader.records.items():\n",
    "    print(f\"{id_}: {get_node(record, 'DIAS:archiveProductURI').text}\")"
   ]
  },
  {
   "cell_type": "code",
   "execution_count": 7,
   "metadata": {},
   "outputs": [
    {
     "name": "stderr",
     "output_type": "stream",
     "text": [
      "2020-08-04 11:31:23,904 - [INFO] - Downloading S1B_IW_GRDH_1SDV_20200404T181603_20200404T181632_020997_027D4C_5001\n"
     ]
    }
   ],
   "source": [
    "# If it's fine, let's download the products\n",
    "downloader.download(target_folder)"
   ]
  },
  {
   "cell_type": "markdown",
   "metadata": {},
   "source": [
    "Let's check our target folder contains 3 folders :\n",
    "\"S1A_IW_GRDH_1SDV_20220401T221911_20220401T221936_042586_051483_2805\"\n",
    "\"S1A_IW_GRDH_1SDV_20220401T221936_20220401T222001_042586_051483_ACA9\"\n",
    "\"S1A_IW_GRDH_1SDV_20220401T222001_20220401T222026_042586_051483_3A78\"\n"
   ]
  },
  {
   "cell_type": "code",
   "execution_count": 8,
   "metadata": {},
   "outputs": [
    {
     "data": {
      "text/plain": [
       "['S1B_IW_GRDH_1SDV_20200404T181603_20200404T181632_020997_027D4C_5001',\n",
       " 'S1A_IW_OCN__2SDV_20180421T163028_20180421T163053_021567_0252B9_4A34.zip']"
      ]
     },
     "execution_count": 8,
     "metadata": {},
     "output_type": "execute_result"
    }
   ],
   "source": [
    "os.listdir(target_folder)"
   ]
  },
  {
   "cell_type": "markdown",
   "metadata": {},
   "source": [
    "## Remove downloaded data\n",
    "\n",
    "As directories cannot be deleted from Jupyter interface, we provide a way to do it programatically."
   ]
  },
  {
   "cell_type": "code",
   "execution_count": 9,
   "metadata": {},
   "outputs": [
    {
     "name": "stdout",
     "output_type": "stream",
     "text": [
      "data/foo/ not found\n"
     ]
    }
   ],
   "source": [
    "shutil.rmtree(target_folder)\n",
    "\n",
    "try:\n",
    "    os.listdir(target_folder)\n",
    "except FileNotFoundError:\n",
    "    print(f\"{target_folder} not found\")"
   ]
  }
 ],
 "metadata": {
  "kernelspec": {
   "display_name": "Python 3",
   "language": "python",
   "name": "python3"
  },
  "language_info": {
   "codemirror_mode": {
    "name": "ipython",
    "version": 3
   },
   "file_extension": ".py",
   "mimetype": "text/x-python",
   "name": "python",
   "nbconvert_exporter": "python",
   "pygments_lexer": "ipython3",
   "version": "3.7.6"
  }
 },
 "nbformat": 4,
 "nbformat_minor": 4
}
