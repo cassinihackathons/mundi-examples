{
 "cells": [
  {
   "cell_type": "markdown",
   "metadata": {},
   "source": [
    "<img src='https://mundiwebservices.com/build/assets/Mundi-Logo-CMYK-colors.png'  align='left' width='15%' ></img>  "
   ]
  },
  {
   "cell_type": "markdown",
   "metadata": {},
   "source": [
    "# Mundi Web Feature Service (WFS)"
   ]
  },
  {
   "cell_type": "code",
   "execution_count": 1,
   "metadata": {},
   "outputs": [],
   "source": [
    "from mundilib import MundiCatalogue"
   ]
  },
  {
   "cell_type": "markdown",
   "metadata": {},
   "source": [
    "### Service end point - identification"
   ]
  },
  {
   "cell_type": "code",
   "execution_count": 2,
   "metadata": {},
   "outputs": [],
   "source": [
    "c = MundiCatalogue()\n",
    "wfs = c.get_collection(\"Sentinel2\").mundi_wfs('L1C')"
   ]
  },
  {
   "cell_type": "code",
   "execution_count": 3,
   "metadata": {},
   "outputs": [
    {
     "name": "stdout",
     "output_type": "stream",
     "text": [
      "Type:    WFS\n",
      "Version: 2.0.0\n",
      "Service: Sentinel-2 L1C\n"
     ]
    }
   ],
   "source": [
    "try:\n",
    "    print(\"Type:    \" + wfs.identification.type)\n",
    "    print(\"Version: \" + wfs.identification.version)\n",
    "    print(\"Service: \" + wfs.identification.title)\n",
    "except Exception as e:\n",
    "    print (\"\\n----- Error occured -----\\n\" + str(e))"
   ]
  },
  {
   "cell_type": "code",
   "execution_count": 4,
   "metadata": {},
   "outputs": [
    {
     "data": {
      "text/plain": [
       "<owslib.feature.wfs200.WebFeatureService_2_0_0 at 0x7ff810177150>"
      ]
     },
     "execution_count": 4,
     "metadata": {},
     "output_type": "execute_result"
    }
   ],
   "source": [
    "wfs"
   ]
  },
  {
   "cell_type": "code",
   "execution_count": 5,
   "metadata": {},
   "outputs": [
    {
     "data": {
      "text/plain": [
       "'The Copernicus project’s Sentinel satellites are revolutionizing earth observation (EO). Its free, full and open access to data with very short revisit times, high spatial resolution, and good spectral resolution are crucial for many applications. The portfolio of possible products is vast - use-cases of such a service range from plant health monitoring, land and water body change, flood monitoring, disaster mapping and more.However the current gap between Sentinel source data and its end-users is large:• \\x90  ESA’s complex Scientific Data Hub• \\x90  raster files are compressed with JPEG2000 (13 raster filesfor each product, one per spectral band)• \\x90  terabytes of data per week• \\x90  additional processing requirementsTackling the data in an old-fashioned way -  offering individual derivative products simply does not work anymore, the associated time and costs are large and defeat most of the major benefits of the Sentinel project.Our approach combines cloud-based GIS technologies, parallel processing and fully automated procedures. To support the fast developing EO field we provide tools directly to end-users. on-the-fly processing and visualization make it possible to build new products (e.g. vegetation indices and similar) in a matter of minutes.'"
      ]
     },
     "execution_count": 5,
     "metadata": {},
     "output_type": "execute_result"
    }
   ],
   "source": [
    "wfs.identification.abstract"
   ]
  },
  {
   "cell_type": "markdown",
   "metadata": {},
   "source": [
    "#### Available layers (List FeatureTypes) with their attributes"
   ]
  },
  {
   "cell_type": "code",
   "execution_count": 6,
   "metadata": {},
   "outputs": [
    {
     "name": "stdout",
     "output_type": "stream",
     "text": [
      "S2.TILE i.e. 'Sentinel S2 - L1C'\n"
     ]
    }
   ],
   "source": [
    "# available layers and attributes\n",
    "try:\n",
    "    for lay in list(wfs.contents):\n",
    "        print (lay + \" i.e. \" + \"'\" + wfs[lay].title + \"'\")\n",
    "            \n",
    "        #print (wfs[lay].name + \" i.e. \" + \"'\" + wcs[lay].title + \"'\")    # ERROR ?: no 'name' attribute seems to be defined on layers\n",
    "        #print (wfs[lay].queryable)\n",
    "        #print (wfs[lay].children)\n",
    "        #print (wfs[lay].parent.title)\n",
    "        #print (wfs[lay].boundingBoxWGS84)\n",
    "        #print (wfs[lay].crsOptions)\n",
    "        #print (wfs[lay].styles)\n",
    "        \n",
    "except Exception as e:\n",
    "    print (\"\\n----- Error occured -----\\n\" + str(e) + \"\\n\")"
   ]
  },
  {
   "cell_type": "markdown",
   "metadata": {},
   "source": [
    "#### Available operations with offered output format"
   ]
  },
  {
   "cell_type": "code",
   "execution_count": 7,
   "metadata": {},
   "outputs": [
    {
     "name": "stdout",
     "output_type": "stream",
     "text": [
      "GetCapabilities[{'constraints': [], 'type': 'Get', 'url': 'http://shservices.mundiwebservices.com/ogc/wfs/d275ef59-3f26-4466-9a60-ff837e572144?'}]\n",
      "\ttext/xml\n",
      "\n",
      "DescribeFeatureType[{'constraints': [], 'type': 'Get', 'url': 'http://shservices.mundiwebservices.com/ogc/wfs/d275ef59-3f26-4466-9a60-ff837e572144?'}]\n",
      "\ttext/xml\n",
      "\n"
     ]
    }
   ],
   "source": [
    "for op in wfs.operations:\n",
    "    print (op.name + str(wfs.getOperationByName(op.name).methods))\n",
    "    \n",
    "    try :\n",
    "        for fm in wfs.getOperationByName(op.name).formatOptions:\n",
    "            print (\"\\t\" + fm)\n",
    "        print (\"\")\n",
    "    \n",
    "    except Exception as e:\n",
    "        print (\"\\n----- Error occured -----\\n\" + str(e) + \"\\n\")"
   ]
  }
 ],
 "metadata": {
  "kernelspec": {
   "display_name": "Python 3",
   "language": "python",
   "name": "python3"
  },
  "language_info": {
   "codemirror_mode": {
    "name": "ipython",
    "version": 3
   },
   "file_extension": ".py",
   "mimetype": "text/x-python",
   "name": "python",
   "nbconvert_exporter": "python",
   "pygments_lexer": "ipython3",
   "version": "3.7.6"
  }
 },
 "nbformat": 4,
 "nbformat_minor": 4
}
